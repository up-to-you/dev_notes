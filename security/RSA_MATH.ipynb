{
 "nbformat": 4,
 "nbformat_minor": 2,
 "metadata": {
  "language_info": {
   "name": "python",
   "codemirror_mode": {
    "name": "ipython",
    "version": 3
   }
  },
  "orig_nbformat": 2,
  "file_extension": ".py",
  "mimetype": "text/x-python",
  "name": "python",
  "npconvert_exporter": "python",
  "pygments_lexer": "ipython3",
  "version": 3
 },
 "cells": [
  {
   "cell_type": "markdown",
   "execution_count": null,
   "metadata": {},
   "outputs": [],
   "source": [
    "So, there are two common terms: **Public key** and **Private key** and **three numbers** involved behind this terms.   \n",
    "To accomplish secure conversation between participants this numbers **must meet several requirements**."
   ]
  },
  {
   "cell_type": "markdown",
   "execution_count": null,
   "metadata": {},
   "outputs": [],
   "source": [
    "### RSA requirements\n",
    "First **two numbers** we pick **p** and **q** are halves of **Private key** and they must be **Prime numbers**    \n",
    "for several reasons:   \n",
    "\n",
    "1. Factorization brute-force protection:   \n",
    "Multiplication result of two prime numbers **N = p * q** consists of only two factors, respectively.   \n",
    "This allows **N** (being exposed as part of **Public key**) to be more protected against Brute-Force / Factorization operation.  \n",
    "Consider the following <ins>naive</ins> factorization algorithm:\n",
    "```Python\n",
    "factors = set()   \n",
    "while N > 1:    \n",
    "  for p in [2, 3, 5, 7, 11, 13, 17, ...]:  // prime num sequence\n",
    "    while N % p == 0:   \n",
    "      N = N / p   \n",
    "      factors.add(p)\n",
    "```\n",
    "The more factors **N** consists of, the less algorithm iterations required.   \n",
    "For example, $4294967296\\ \\ \\ (2^{32})$ requires 32 iterations respectively.   \n",
    "$73 * 89 * 97 = 630 209$ requires 27 iterations, although the number is less, but consists of more factors, thus easier to find.   \n",
    "With **p** and **q** being **Prime** (so, there are only two factors) and as large as possible,   \n",
    "its harder to find the source factors of **N**.   \n",
    "Even though the current algorithm is naive for sample purpose, other more sophisticated algorithms not such effective    \n",
    "when **p** and **q** are **Prime** and large enough.   \n",
    "\n",
    "2. Euler totient function $\\varphi(N)$ calculation.   \n",
    "Even so, if private **p** and **q** can be derived from public **N** number (in theory), to decrypt incoming message one need to calculate exponent **d**:   \n",
    "$e * d \\equiv 1\\ (mod \\ \\varphi(N))$ (explained later). Without **p** and **q** being **Prime**, $\\varphi(N)$ can't be calculated in easy and efficient way    \n",
    "like $(p-1)(q-1)\\ =\\ \\varphi(N)$ - this is acceptable only if **p** and **q** are **Prime** numbers.\n",
    "\n",
    "**Third number e** we pick must be coprime (relatively prime) with $\\varphi(N)$.   \n",
    "It is required for encryption of each character (code point) into unique number.   \n",
    "Failed example (both characters encoding results in 8):   \n",
    "$N\\ =\\ 65$   \n",
    "$\\varphi(N)\\ =\\ 48$   \n",
    "$e\\ =\\ 3$   \n",
    "$x\\ =\\ [2,\\ 57]$   \n",
    "$2^3\\ (mod\\ 65)\\ =\\ 8$   \n",
    "$57^3\\ (mod\\ 65)\\ =\\ 8$   \n",
    "Thus, $8$ can't be decrypted into proper source character.   \n",
    "So, it's easier to select **e** first and check if $p\\ -\\ 1$ and $q\\ -\\ 1$ are coprime to **e**."
   ]
  },
  {
   "cell_type": "markdown",
   "execution_count": null,
   "metadata": {},
   "outputs": [],
   "source": [
    "### Euler's theorem & Euler totient function\n",
    "\n",
    "Euler totient function $\\varphi(N)$ - number of integers $x\\ \\ \\ ({1 \\leq x \\leq N})$ between 1 and N whose $gcd(x, N)\\ =\\ 1\\ \\ \\ (greatest\\ common\\ divisor)$.   \n",
    "So, $x$ and $N$ doesn't share any divisor except 1.   \n",
    "Most important property of **Euler totient function**, we are intrested in, is:   \n",
    "if \n"
   ]
  }
 ]
}